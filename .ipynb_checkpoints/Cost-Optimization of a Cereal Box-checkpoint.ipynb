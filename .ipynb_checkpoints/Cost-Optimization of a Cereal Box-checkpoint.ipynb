{
 "cells": [
  {
   "cell_type": "markdown",
   "metadata": {},
   "source": [
    "# Cost-Optimization of a Cereal Box"
   ]
  },
  {
   "cell_type": "markdown",
   "metadata": {},
   "source": [
    "### 1. You will be designing a **new** shape for a cereal box. Your new design **may not** be a rectangular prism!\n",
    "\n",
    "Being hip kids who know what's cool, it didn't take long to realize that an isosceles trapezoidal prism is what's cool. So that's what we're working with."
   ]
  },
  {
   "cell_type": "markdown",
   "metadata": {},
   "source": [
    "### 2. You will be designing a new shape for a cereal box to hold 4 cups of cereal. The original cereal box's dimensions are ***6 inches by 1 inch by 10 inches***. The volume of this box is a little bigger than 4 cups... you want to be able to close the box! Material costs are $0.10 for every 25 square inches of cardstock. You will need to find the surface area (in square inches) and volume (in cubic inches) of the original package. You will also need to find the current cost of materials for one cereal box."
   ]
  },
  {
   "cell_type": "markdown",
   "metadata": {},
   "source": [
    "First, let's define a rectangular prism:"
   ]
  },
  {
   "cell_type": "code",
   "execution_count": 1,
   "metadata": {
    "collapsed": true
   },
   "outputs": [],
   "source": [
    "class rectangularPrism:\n",
    "    \n",
    "    def __init__(self, l, w, h):  # What it needs to know to start itself\n",
    "        self.l = l\n",
    "        self.w = w\n",
    "        self.h = h\n",
    "\n",
    "    def base(self):\n",
    "        B = self.l * self.w\n",
    "        return B\n",
    "\n",
    "    def basePerimeter(self):\n",
    "        P = 2 * (self.l + self.w)\n",
    "        return P\n",
    "\n",
    "    def lateralArea(self):\n",
    "        LA = self.basePerimeter() * self.h\n",
    "        return LA\n",
    "\n",
    "    def surfaceArea(self):\n",
    "        SA = (2 * self.base()) + self.lateralArea()\n",
    "        return SA\n",
    "    \n",
    "    def volume(self):\n",
    "        V = self.l * self.w * self.h\n",
    "        return V\n"
   ]
  },
  {
   "cell_type": "markdown",
   "metadata": {},
   "source": [
    "Now let's define the cost function:"
   ]
  },
  {
   "cell_type": "code",
   "execution_count": 2,
   "metadata": {
    "collapsed": true
   },
   "outputs": [],
   "source": [
    "def cost(area):\n",
    "    return round(0.1 * (area / 25), 2)  # We're working with money, we only want two decimal points\n"
   ]
  },
  {
   "cell_type": "markdown",
   "metadata": {},
   "source": [
    "Now we can look at some properties of the old, boring cereal box:"
   ]
  },
  {
   "cell_type": "code",
   "execution_count": 3,
   "metadata": {
    "collapsed": false
   },
   "outputs": [
    {
     "name": "stdout",
     "output_type": "stream",
     "text": [
      "Surface Area: 152\n",
      "Cost:         0.61\n",
      "Volume:       60\n"
     ]
    }
   ],
   "source": [
    "box = rectangularPrism(6, 1, 10)\n",
    "print(\"Surface Area:\", box.surfaceArea())\n",
    "print(\"Cost:        \", cost(box.surfaceArea()))\n",
    "print(\"Volume:      \", box.volume())"
   ]
  },
  {
   "cell_type": "markdown",
   "metadata": {},
   "source": [
    "*These numbers might be wierd because of [loss of significance](https://en.wikipedia.org/wiki/Loss_of_significance)*"
   ]
  },
  {
   "cell_type": "markdown",
   "metadata": {},
   "source": [
    "### 3. You will need to create a new design for the cereal box that costs less to make but still holds the same amount of cereal. Also, your design must attract and keep shopper's attention. Create a **net** for your cereal box and label it with exact measurements in inches.\n",
    "\n"
   ]
  },
  {
   "cell_type": "markdown",
   "metadata": {},
   "source": [
    "Let's define an isosceles trapezoidal prism:"
   ]
  },
  {
   "cell_type": "code",
   "execution_count": 4,
   "metadata": {
    "collapsed": true
   },
   "outputs": [],
   "source": [
    "import math  # For the sqrt function\n",
    "\n",
    "\n",
    "class isoscelesTrapezoidalPrism:\n",
    "    \n",
    "    def __init__(self, b1, b2, h, d):\n",
    "        self.b1 = b1  # base 1\n",
    "        self.b2 = b2  # base 2\n",
    "        self.h = h    # height\n",
    "        self.d = d    # depth\n",
    "\n",
    "    def base(self):\n",
    "        B = 0.5 * self.h * (self.b1 + self.b2)\n",
    "        return B\n",
    "    \n",
    "    def diagonal(self):\n",
    "        D = math.sqrt(self.h**2 + (0.5 * (self.b1 - self.b2))**2)  # Pythagoran theorem\n",
    "        return D\n",
    "\n",
    "    def perimeter(self):\n",
    "        P = self.b1 + self.b2 + (2 * self.diagonal())\n",
    "        return P\n",
    "    \n",
    "    def lateralArea(self):\n",
    "        LA = self.perimeter() * self.h\n",
    "        return LA\n",
    "\n",
    "    def surfaceArea(self):\n",
    "        SA = (2 * self.base()) + self.lateralArea()\n",
    "        return SA\n",
    "\n",
    "    def volume(self):\n",
    "        V = self.base() * self.d\n",
    "        return V\n"
   ]
  },
  {
   "cell_type": "code",
   "execution_count": 5,
   "metadata": {
    "collapsed": false
   },
   "outputs": [
    {
     "name": "stdout",
     "output_type": "stream",
     "text": [
      "121.4558441227157\n",
      "0.49\n",
      "72.0\n"
     ]
    }
   ],
   "source": [
    "box = isoscelesTrapezoidalPrism(5, 11, 3, 3)\n",
    "print(box.surfaceArea())\n",
    "print(cost(box.surfaceArea()))\n",
    "print(box.volume())"
   ]
  },
  {
   "cell_type": "markdown",
   "metadata": {
    "collapsed": true
   },
   "source": [
    "Now we need to figure out the best dimensions to use. This can be done with `scipy.optimize.minimize`."
   ]
  },
  {
   "cell_type": "code",
   "execution_count": 6,
   "metadata": {
    "collapsed": true
   },
   "outputs": [],
   "source": [
    "import numpy as np\n",
    "from scipy.optimize import minimize"
   ]
  },
  {
   "cell_type": "markdown",
   "metadata": {},
   "source": [
    "Before we can optimize, we need to define what it is that we want to minimize. In this case, it should be the cost."
   ]
  },
  {
   "cell_type": "code",
   "execution_count": 7,
   "metadata": {
    "collapsed": true
   },
   "outputs": [],
   "source": [
    "def foo(x):  # x will be a list of values, describing the dimensions of a trapezoidal prism\n",
    "    box = isoscelesTrapezoidalPrism(x[0], x[1], x[2], x[3])\n",
    "    return cost(box.surfaceArea()) / box.volume()\n"
   ]
  },
  {
   "cell_type": "markdown",
   "metadata": {},
   "source": [
    "Now we need to define any constraints. The box must have the same volume as the old one, which was shown to be 60in<sup>2</sup>."
   ]
  },
  {
   "cell_type": "code",
   "execution_count": 16,
   "metadata": {
    "collapsed": true
   },
   "outputs": [],
   "source": [
    "def constraint1(x):\n",
    "    return 60.  # That was easier than I thought\n"
   ]
  },
  {
   "cell_type": "code",
   "execution_count": 17,
   "metadata": {
    "collapsed": false
   },
   "outputs": [
    {
     "name": "stdout",
     "output_type": "stream",
     "text": [
      "Optimization terminated successfully.\n",
      "         Current function value: 0.000000\n",
      "         Iterations: 20\n",
      "         Function evaluations: 99\n",
      "[  3.12500000e-05   3.12500000e-05   3.12500000e-05   1.25000000e-04]\n"
     ]
    },
    {
     "name": "stderr",
     "output_type": "stream",
     "text": [
      "C:\\Anaconda3\\lib\\site-packages\\scipy\\optimize\\_minimize.py:394: RuntimeWarning: Method nelder-mead cannot handle constraints nor bounds.\n",
      "  RuntimeWarning)\n"
     ]
    }
   ],
   "source": [
    "x0 = np.zeros(4)  # Four zeros as the placeholders for the dimensions\n",
    "res = minimize(foo, x0, method=\"nelder-mead\",\n",
    "               options={\"xtol\": 1e-8, \"disp\": True},\n",
    "               constraints={\"type\": \"eq\", \"fun\": constraint1})\n",
    "print(res.x)"
   ]
  },
  {
   "cell_type": "code",
   "execution_count": 10,
   "metadata": {
    "collapsed": false
   },
   "outputs": [
    {
     "name": "stdout",
     "output_type": "stream",
     "text": [
      "Optimization terminated successfully.\n",
      "         Current function value: 0.000000\n",
      "         Iterations: 20\n",
      "         Function evaluations: 99\n"
     ]
    }
   ],
   "source": [
    "x0 = np.zeros(4)  # Placeholders for the dimensions (b1, b1, h, depth)\n",
    "\n",
    "def foo(x):  # function to be minimized\n",
    "    for dim in x:\n",
    "        if dim <= 0:\n",
    "            return float(\"inf\")  # If a number is negative, return infinity (a very high number)\n",
    "    \n",
    "    box = isoscelesTrapezoidalPrism(x[0], x[1], x[2], x[3])  # get the individual elements of x\n",
    "    return cost(box.surfaceArea())\n",
    "\n",
    "res = minimize(foo, x0, method=\"nelder-mead\", options={\"xtol\": 1e-8, \"disp\": True})  # using nelder-mead meathod\n"
   ]
  },
  {
   "cell_type": "code",
   "execution_count": 11,
   "metadata": {
    "collapsed": false
   },
   "outputs": [
    {
     "name": "stdout",
     "output_type": "stream",
     "text": [
      "[  3.12500000e-05   3.12500000e-05   3.12500000e-05   1.25000000e-04]\n"
     ]
    }
   ],
   "source": [
    "print(res.x)"
   ]
  },
  {
   "cell_type": "markdown",
   "metadata": {},
   "source": [
    "We won't be able to make measurements that precise, so I'll round them down:"
   ]
  },
  {
   "cell_type": "code",
   "execution_count": 12,
   "metadata": {
    "collapsed": false
   },
   "outputs": [
    {
     "name": "stdout",
     "output_type": "stream",
     "text": [
      "[0.0, 0.0, 0.0, 0.0]\n"
     ]
    }
   ],
   "source": [
    "print([round(x, 2) for x in res.x])"
   ]
  },
  {
   "cell_type": "markdown",
   "metadata": {},
   "source": [
    "Woops, all that did was minimize the surface area! I should have been more thoughtful with the `foo` function."
   ]
  },
  {
   "cell_type": "code",
   "execution_count": 13,
   "metadata": {
    "collapsed": true
   },
   "outputs": [],
   "source": [
    "def foo(x):  # function to be minimized\n",
    "    for dim in x:\n",
    "        if dim <= 0:\n",
    "            return float(\"inf\")  # If a number is negative, return infinity (a very high number)\n",
    "    \n",
    "    box = isoscelesTrapezoidalPrism(x[0], x[1], x[2], x[3])  # get the individual elements of x\n",
    "    return cost(box.surfaceArea()) / box.volume()"
   ]
  },
  {
   "cell_type": "markdown",
   "metadata": {},
   "source": [
    "This returns the *ratio* of cost to volume."
   ]
  },
  {
   "cell_type": "code",
   "execution_count": 14,
   "metadata": {
    "collapsed": false
   },
   "outputs": [
    {
     "name": "stdout",
     "output_type": "stream",
     "text": [
      "Warning: Maximum number of iterations has been exceeded.\n"
     ]
    }
   ],
   "source": [
    "x0 = np.array([50, 50, 50, 50])\n",
    "res = minimize(foo, x0, method=\"nelder-mead\", options={\"xtol\": 1e-8, \"disp\": True, \"maxfev\": math.inf})"
   ]
  },
  {
   "cell_type": "code",
   "execution_count": 15,
   "metadata": {
    "collapsed": false
   },
   "outputs": [
    {
     "name": "stdout",
     "output_type": "stream",
     "text": [
      "[  8.65876880e+73   1.53937495e+74   1.33370373e+73   1.51573412e+75]\n"
     ]
    }
   ],
   "source": [
    "print(res.x)"
   ]
  }
 ],
 "metadata": {
  "kernelspec": {
   "display_name": "Python 3",
   "language": "python",
   "name": "python3"
  },
  "language_info": {
   "codemirror_mode": {
    "name": "ipython",
    "version": 3
   },
   "file_extension": ".py",
   "mimetype": "text/x-python",
   "name": "python",
   "nbconvert_exporter": "python",
   "pygments_lexer": "ipython3",
   "version": "3.5.1"
  }
 },
 "nbformat": 4,
 "nbformat_minor": 0
}
