{
 "cells": [
  {
   "cell_type": "markdown",
   "metadata": {},
   "source": [
    "# Cost-Optimization of a Cereal Box"
   ]
  },
  {
   "cell_type": "markdown",
   "metadata": {},
   "source": [
    "### 1. You will be designing a **new** shape for a cereal box. Your new design **may not** be a rectangular prism!\n",
    "\n",
    "Being hip kids who know what's cool, it didn't take long to realize that an isosceles trapezoidal prism is what's cool. So that's what we're working with."
   ]
  },
  {
   "cell_type": "markdown",
   "metadata": {},
   "source": [
    "### 2. You will be designing a new shape for a cereal box to hold 4 cups of cereal. The original cereal box's dimensions are ***6 inches by 1 inch by 10 inches***. The volume of this box is a little bigger than 4 cups... you want to be able to close the box! Material costs are \t&#36;0.10 for every 25 square inches of cardstock. You will need to find the surface area (in square inches) and volume (in cubic inches) of the original package. You will also need to find the current cost of materials for one cereal box."
   ]
  },
  {
   "cell_type": "markdown",
   "metadata": {},
   "source": [
    "First, let's define a rectangular prism:"
   ]
  },
  {
   "cell_type": "code",
   "execution_count": 1,
   "metadata": {
    "collapsed": true
   },
   "outputs": [],
   "source": [
    "class RectangularPrism:\n",
    "    \n",
    "    def __init__(self, l, w, h):  # What it needs to know to start itself\n",
    "        self.l = l\n",
    "        self.w = w\n",
    "        self.h = h\n",
    "\n",
    "    # Each of the following functions defines a property of the prism based on l, w, & h\n",
    "    def base(self):\n",
    "        B = self.l * self.w\n",
    "        return B\n",
    "\n",
    "    def basePerimeter(self):\n",
    "        P = 2 * (self.l + self.w)\n",
    "        return P\n",
    "\n",
    "    def lateralArea(self):\n",
    "        LA = self.basePerimeter() * self.h\n",
    "        return LA\n",
    "\n",
    "    def surfaceArea(self):\n",
    "        SA = (2 * self.base()) + self.lateralArea()\n",
    "        return SA\n",
    "    \n",
    "    def volume(self):\n",
    "        V = self.l * self.w * self.h\n",
    "        return V\n"
   ]
  },
  {
   "cell_type": "markdown",
   "metadata": {},
   "source": [
    "## Here's a summary of this for humans:\n",
    "\n",
    "- A `RectangularPrism` is a thing\n",
    "- It needs to be given $l$, $w$, and $h$ to start itself\n",
    "- It does `base`, which is defined as $lw$\n",
    "- It does `basePerimeter`, which is defined as $2lw$\n",
    "- It does `lateralArea`, which is defined as `basePerimeter` $* h$\n",
    "- It does `surfaceArea`, which is defined as $2*$ `base` $+$ `lateralArea`\n",
    "- It does `volume`, which is defined as $lwh$"
   ]
  },
  {
   "cell_type": "markdown",
   "metadata": {},
   "source": [
    "Now let's define the cost function:"
   ]
  },
  {
   "cell_type": "code",
   "execution_count": 2,
   "metadata": {
    "collapsed": true
   },
   "outputs": [],
   "source": [
    "def cost(area):\n",
    "    return round(0.1 * (area / 25), 2)  # We're working with money, we only want two decimal points\n"
   ]
  },
  {
   "cell_type": "markdown",
   "metadata": {},
   "source": [
    "Now we can look at some properties of that boring old cereal box:"
   ]
  },
  {
   "cell_type": "code",
   "execution_count": 3,
   "metadata": {
    "collapsed": false
   },
   "outputs": [
    {
     "name": "stdout",
     "output_type": "stream",
     "text": [
      "Surface Area: 152\n",
      "Cost:         0.61\n",
      "Volume:       60\n"
     ]
    }
   ],
   "source": [
    "box = RectangularPrism(6, 1, 10)\n",
    "\n",
    "# Here we're asking for certain things defined earlier\n",
    "print(\"Surface Area:\", box.surfaceArea())\n",
    "print(\"Cost:        \", cost(box.surfaceArea()))\n",
    "print(\"Volume:      \", box.volume())"
   ]
  },
  {
   "cell_type": "markdown",
   "metadata": {},
   "source": [
    "*These numbers might be wierd because of [loss of significance](https://en.wikipedia.org/wiki/Loss_of_significance)*"
   ]
  },
  {
   "cell_type": "markdown",
   "metadata": {},
   "source": [
    "### 3. You will need to create a new design for the cereal box that costs less to make but still holds the same amount of cereal. Also, your design must attract and keep shopper's attention. Create a **net** for your cereal box and label it with exact measurements in inches.\n",
    "\n"
   ]
  },
  {
   "cell_type": "markdown",
   "metadata": {},
   "source": [
    "Let's define an isosceles trapezoidal prism:"
   ]
  },
  {
   "cell_type": "code",
   "execution_count": 4,
   "metadata": {
    "collapsed": true
   },
   "outputs": [],
   "source": [
    "import math  # For the sqrt function\n",
    "\n",
    "\n",
    "class IsoscelesTrapezoidalPrism:\n",
    "    \n",
    "    def __init__(self, b1, b2, h, d):\n",
    "        self.b1 = b1  # base 1 (smaller)\n",
    "        self.b2 = b2  # base 2 (larger)\n",
    "        self.h = h    # height\n",
    "        self.d = d    # depth\n",
    "\n",
    "    def base(self):\n",
    "        B = 0.5 * self.h * (self.b1 + self.b2)\n",
    "        return B\n",
    "    \n",
    "    def diagonal(self):\n",
    "        D = math.sqrt(self.h**2 + (-0.5 * (self.b1 - self.b2))**2)\n",
    "        return D\n",
    "\n",
    "    def perimeter(self):\n",
    "        P = self.b1 + self.b2 + (2 * self.diagonal())\n",
    "        return P\n",
    "    \n",
    "    def lateralArea(self):\n",
    "        LA = self.perimeter() * self.h\n",
    "        return LA\n",
    "\n",
    "    def surfaceArea(self):\n",
    "        SA = (2 * self.base()) + self.lateralArea()\n",
    "        return SA\n",
    "\n",
    "    def volume(self):\n",
    "        V = self.base() * self.d\n",
    "        return V\n"
   ]
  },
  {
   "cell_type": "markdown",
   "metadata": {},
   "source": [
    "## Here's a summary of this for humans:\n",
    "\n",
    "- A `IsoscelesTrapezoidalPrism` is a thing\n",
    "- It needs to be given $B_1$, $B_2$, $h$, and $d$ to start itself\n",
    "- It does `base`, which is defined as $\\frac{h(B_1 + B_2)}{2}$\n",
    "- It does `diagonal`, which is defined as $\\sqrt{h^2 + (\\frac{B_1 - B_2}{-2})^2}$ (See proof below)\n",
    "- It does `perimeter`, which is defined as $B_1 + B_2 + 2($ `diagonal` $)$\n",
    "- It does `lateralArea`, which is defined as `perimeter` $* h$\n",
    "- It does `surfaceArea`, which is defined as $2 *$ `base` $+$ `lateralArea`\n",
    "- It does `volume`, which is defined as `base` $* d$"
   ]
  },
  {
   "cell_type": "markdown",
   "metadata": {},
   "source": [
    "A tricky part about making this is defining how to find the length of a diagonals using only $B_1$, $B_2$, $h$. But we can figure this out with some logic:\n",
    "<img src=\"files/img/Labeled B1 B2 x.png\">\n",
    "<table style=\"width:90%\">\n",
    " <tr>\n",
    "  <th>Statement</th>\n",
    "  <th>Reason</th>\n",
    " </tr>\n",
    " <tr>\n",
    "  <td>Trapedoid $T$ is an isosceles trapezoid with bases $B_1$, $B_2$ and with height $h$.</td>\n",
    "  <td>Given</td>\n",
    " </tr>\n",
    " <tr>\n",
    "  <td>Both heights in trapezoid $T$ are perpendicular to both bases; $B_1 ∥ B_2$</td>\n",
    "  <td>Def. of an isosceles trap.</td>\n",
    " </tr>\n",
    " <tr>\n",
    "  <td>Both heights are parallel to each other</td>\n",
    "  <td>Two segments perpendicular to the same line are parallel</td>\n",
    " </tr>\n",
    " <tr>\n",
    "  <td>$B_1 = B_2 - 2x$</td>\n",
    "  <td>Two parallel segments contained between two parallel segments are congruent</td>\n",
    " </tr>\n",
    " <tr>\n",
    "  <td>\n",
    "   $-2x + B_2 = B_1$\n",
    "   <br><br>\n",
    "   $-2x = B_1 - B_2$\n",
    "   <br><br>\n",
    "   $x = \\frac{B_1 - B_2}{-2}$\n",
    "  </td>\n",
    "  <td>Solving for $x$</td>\n",
    " </tr>\n",
    " <tr>\n",
    "  <td>$D^2 = h^2 + x^2$</td>\n",
    "  <td>Pythagorean theorem</td>\n",
    " </tr>\n",
    " <tr>\n",
    "  <td>$D^2 = h^2 + (\\frac{B_1 - B_2}{-2})^2$</td>\n",
    "  <td>Substitution Property of Equality</td>\n",
    " </tr>\n",
    " <tr>\n",
    "  <td>$D = \\sqrt{h^2 + (\\frac{B_1 - B_2}{-2})^2}$</td>\n",
    "  <td>Solving for $D$</td>\n",
    " </tr>\n",
    "</table>\n",
    "\n",
    "Cool, so $D = \\sqrt{h^2 + (\\frac{B_1 - B_2}{-2})^2}$, or as it was written above, `D = math.sqrt(self.h**2 + (-0.5 * (self.b1 - self.b2))**2)`."
   ]
  },
  {
   "cell_type": "markdown",
   "metadata": {},
   "source": [
    "<hr>"
   ]
  },
  {
   "cell_type": "markdown",
   "metadata": {},
   "source": [
    "After making this, we tested various dimensions until we found some that worked:"
   ]
  },
  {
   "cell_type": "code",
   "execution_count": 5,
   "metadata": {
    "collapsed": false,
    "scrolled": false
   },
   "outputs": [
    {
     "name": "stdout",
     "output_type": "stream",
     "text": [
      "Diagonal Length: 4.242640687119285\n",
      "Surface Area:    121.4558441227157\n",
      "Cost:            0.49\n",
      "Volume:          72.0\n"
     ]
    }
   ],
   "source": [
    "box = IsoscelesTrapezoidalPrism(b1=5, b2=11, h=3, d=3)\n",
    "\n",
    "print(\"Diagonal Length:\", box.diagonal())\n",
    "print(\"Surface Area:   \", box.surfaceArea())\n",
    "print(\"Cost:           \", cost(box.surfaceArea()))\n",
    "print(\"Volume:         \", box.volume())"
   ]
  },
  {
   "cell_type": "markdown",
   "metadata": {},
   "source": [
    "# Everything after this doesn't apply to the project, I ran out of time..."
   ]
  },
  {
   "cell_type": "markdown",
   "metadata": {},
   "source": [
    "Sure that works, but we can do better..."
   ]
  },
  {
   "cell_type": "markdown",
   "metadata": {
    "collapsed": true
   },
   "source": [
    "To find better dimensions, we'll use `scipy.optimize`."
   ]
  },
  {
   "cell_type": "code",
   "execution_count": 6,
   "metadata": {
    "collapsed": true
   },
   "outputs": [],
   "source": [
    "# Here we're grabbing the tools we need to do complex math stuff\n",
    "\n",
    "import numpy as np\n",
    "from scipy.optimize import minimize"
   ]
  },
  {
   "cell_type": "markdown",
   "metadata": {},
   "source": [
    "Before we can optimize, we need to define what it is that we want to minimize. In this case, it should be the cost."
   ]
  },
  {
   "cell_type": "code",
   "execution_count": 7,
   "metadata": {
    "collapsed": true
   },
   "outputs": [],
   "source": [
    "def foo(x):  # x will be a list of values, describing the dimensions of a trapezoidal prism\n",
    "    box = IsoscelesTrapezoidalPrism(x[0], x[1], x[2], x[3])\n",
    "    return cost(box.surfaceArea()) / box.volume()\n"
   ]
  },
  {
   "cell_type": "markdown",
   "metadata": {},
   "source": [
    "Now we need to define any constraints. The box must have the same volume as the old one, which was shown to be 60in<sup>2</sup>.  Also, all the measurements must be positive."
   ]
  },
  {
   "cell_type": "code",
   "execution_count": 8,
   "metadata": {
    "collapsed": true
   },
   "outputs": [],
   "source": [
    "def constraint1(x):\n",
    "    return 60.  # That was easier than I thought\n",
    "\n",
    "\n",
    "def constraint2(x):\n",
    "    for el in x:\n",
    "        if el <= 0:\n",
    "            return False\n",
    "    return True\n"
   ]
  },
  {
   "cell_type": "code",
   "execution_count": 9,
   "metadata": {
    "collapsed": false
   },
   "outputs": [
    {
     "name": "stderr",
     "output_type": "stream",
     "text": [
      "C:\\Anaconda3\\lib\\site-packages\\scipy\\optimize\\_minimize.py:394: RuntimeWarning: Method nelder-mead cannot handle constraints nor bounds.\n",
      "  RuntimeWarning)\n"
     ]
    },
    {
     "name": "stdout",
     "output_type": "stream",
     "text": [
      "Warning: Maximum number of function evaluations has been exceeded.\n",
      "[  1.49477007e+50   8.19133853e+49  -4.65348987e+50   6.40412415e+50]\n"
     ]
    }
   ],
   "source": [
    "x0 = np.array([5, 11, 3, 3])  # Four zeros as the placeholders for the dimensions\n",
    "res = minimize(foo, x0, method=\"nelder-mead\",\n",
    "               options={\"xtol\": 1e-8, \"disp\": True},\n",
    "               constraints={\"type\": \"eq\", \"fun\": constraint1})\n",
    "print(res.x)"
   ]
  }
 ],
 "metadata": {
  "kernelspec": {
   "display_name": "Python 3",
   "language": "python",
   "name": "python3"
  },
  "language_info": {
   "codemirror_mode": {
    "name": "ipython",
    "version": 3
   },
   "file_extension": ".py",
   "mimetype": "text/x-python",
   "name": "python",
   "nbconvert_exporter": "python",
   "pygments_lexer": "ipython3",
   "version": "3.5.1"
  }
 },
 "nbformat": 4,
 "nbformat_minor": 0
}
